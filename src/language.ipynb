{
 "cells": [
  {
   "cell_type": "code",
   "execution_count": 55,
   "metadata": {},
   "outputs": [],
   "source": [
    "import re\n",
    "import pandas as pd\n",
    "import numpy as np"
   ]
  },
  {
   "cell_type": "code",
   "execution_count": 68,
   "metadata": {},
   "outputs": [],
   "source": [
    "# Open the file in read mode\n",
    "with open(r\"/home/david/Documents/Mandarin/Lesson Vocab.txt\", 'r') as file:\n",
    "    # Read the contents of the file\n",
    "    content = file.read()\n",
    "\n",
    "# Print the contents exactly as they appear\n"
   ]
  },
  {
   "cell_type": "code",
   "execution_count": 69,
   "metadata": {},
   "outputs": [
    {
     "name": "stdout",
     "output_type": "stream",
     "text": [
      "'#separator:tab\\n#html:true\\n#tags column:3\\n\"<img alt=\"\"什么疑问Sticker - 什么疑问不明白- Discover &amp; Share GIFs\"\" src=\"\"paste-3af146b1f66132cb6d074d2a31894ff375a0c9b3.png\"\"><br>traditional\"\\t什麼<br>shen4me<br>[sound:pronunciation_zh_什麼.mp3]\\t\\n\"<img alt=\"\"女生喜欢你的十种表现- 知乎\"\" src=\"\"paste-71f44b86aaf8ff1e27719e788df1d91ef7678a35.jpg\"\"><br>traditional\"\\t<em>喜歡<br></em>xi3huan1<br>[sound:pronunciation_zh_喜歡.mp3]\\t\\n\"<img alt=\"\"早上、上午、中午、下午、晚上Flashcards | Quizlet\"\" src=\"\"paste-411f2791eda25d2e5c5d35c9ab388ee928307a4c.jpg\"\">\"\\t早上<br>zao3shang4<br>[sound:pronunciation_zh_早上-c0e84250b6db56ab16158ee28563e4e062c1e92d.mp3]\\t\\n\"<img alt=\"\"一朵花里，一個世界；一杯茶裡，一片真情....下午好！ | Good afternoon, Good morning coffee gif, Good  morning picture\"\" src=\"\"paste-14b4cb252fb35f8085f13efe9d7c00b520e19fa5.jpg\"\">\"\\t下午<br>xia4wu3<br>[sound:pronunciation_zh_下午.mp3]\\t\\n\"<img alt=\"\"晚上背景图片下载_免费高清晚上背景设计素材_图精灵\"\" src=\"\"paste-91ceb599e1e9e6e72b4528fab2b55fdd49bf3106.jpg\"\">\"\\t晚上<br>wan3shang4<br>[sound:pronunciation_zh_晚上.mp3]\\t\\n\"<img alt=\"\"Rosie the Riveter isn\\'t who you think she is\"\" src=\"\"paste-2baf6ccc4efd067b0c74be200e8d871ceb612124.jpg\"\">\"\\t會<br>hui4<br>[sound:pronunciation_zh_會 (2).mp3]\\t\\n\"<img alt=\"\"英文口說練習推薦：學會這10個小技巧，包準口說突飛猛進！｜EF ENGLISH LIVE部落格| EF English Live\"\" src=\"\"paste-e23a6e928e379c210a3418e7a74cedf0bf8730d3.jpg\"\">\"\\t說<br>shuo1<br>[sound:pronunciation_zh_說 (1).mp3]\\t\\n\"<img alt=\"\"我如何快速地學好英文？10個方法讓你增進你的英文（初學者也適用） | Ting Ting Chuang | Nordic。Travel。  Lifestyle。 Parenting\"\" src=\"\"paste-9b98206d47e588c3db70764459c93d5965de7478.jpg\"\">\"\\t英文<br>ying1wen2<br>[sound:pronunciation_zh_英文-f194f8365d997ac6b3fce5a8b9f01dd3ce38122f.mp3]\\t\\n\"<img alt=\"\"The Word Chinese Surrounded Other Letters Stock Photo, Picture and Royalty  Free Image. Image 60133560.\"\" src=\"\"paste-c2e57dae04200d669bf62d5f7807e82d74e2175c.jpg\"\">\"\\t中文<br>zhong1wen2<br>[sound:pronunciation_zh_中文-8c0cbaa203ba8c39b54fea56aa69360ca57321cc.mp3]\\t\\n\"<img alt=\"\"抖音女生口中只吃一点表情包无水印下载_女生口中只吃一点表情包分享-游戏窝\"\" src=\"\"paste-68ad84ab1f3552b10180042b0682939965e36adf.jpg\"\">\"\\t一点<br>yi4dian3<br>[sound:pronunciation_zh_一点.mp3]\\t\\n\"<img src=\"\"paste-3c5c42518dfbbba9cbbe3a90c0d9f78282d3bc7e.jpg\"\"><br>1\"\\t粵語<br>yue4yu3<br>[sound:pronunciation_zh_粵語.mp3]\\t\\n\"<img src=\"\"paste-f7b5fd630e44a7a43f02042da5d48b86513be295.jpg\"\"><br>2\"\\t廣東話<br>guang3dong1hua4<br>[sound:pronunciation_zh_廣東話.mp3]\\t\\n\"<img alt=\"\"學測英聽時間113/2024年學測個人申請入學/繁星推薦採計英聽成績校系整理-洋碩美語\"\" src=\"\"toPic.action\"\">\"\\t學<br>xue2<br>[sound:pronunciation_zh_學 (1).mp3]\\t\\n\"<img alt=\"\"Fortnite Does Not Equal &quot;Fortnight&quot;\"\" src=\"\"paste-48e5eca174ea763306e4f02360c01002e570d250.jpg\"\">\"\\t兩週<br>liang3zhou1<br>\\t\\n\"<img alt=\"\"3d Illustration Of Person Begging. 3d Rendering Of Human ...\"\" src=\"\"21023506-3d-illustration-of-person-begging-3d-rendering-of-human-character.jpg\"\">\"\\t情<br>qing2<br>[sound:pronunciation_zh_情.mp3]\\t\\n\"<img alt=\"\"世界十大慢动物看看都有谁\"\" src=\"\"images-b61caf5c1ebbe132f0ef1d7f32a99e71c32bb45b.jpg\"\">\"\\t慢<br>man4<br>[sound:pronunciation_zh_慢.mp3]\\t\\nmore slowly\\t慢點<br>man4dian3\\t\\n\"<img alt=\"\"左右脸不对称，一边大一边小，该怎么办？ - 知乎\"\" src=\"\"paste-f30f096a2a4bfefa3e626f343b70b6f2f88c699d.jpg\"\"><img alt=\"\"一边...一边... (yìbiān...yìbiān...): The Complete Guide to Expressing  Multitasking in Chinese - ImproveMandarin\"\" src=\"\"paste-cb3938d70ce7f8f2014a9097d398a78140da96d8.jpg\"\">\"\\t<em>一邊<br></em>yi1bian1<br>[sound:pronunciation_zh_一邊.mp3]\\t\\n\"<img alt=\"\"幽默力】為什麼別人的自嘲可以化解危機，你的卻讓人尷尬？\"\" src=\"\"paste-0b25c0f55629274b236b8530fb8d0fe5035262ce.jpg\"\">\"\\t可以<br>key3yi3<br>[sound:pronunciation_zh_可以.mp3]\\t\\n\"<img alt=\"\"如何表达“没听清”“请再说一遍”?\"\" src=\"\"paste-96ac9769f69565fd36a24142eb6873e158e54abb.jpg\"\">\"\\t再說<br>zai4shuo1<br>[sound:pronunciation_zh_再說.mp3]\\t\\n\"<img alt=\"\"高兴图片-高兴设计素材-高兴素材免费下载-万素网\"\" src=\"\"paste-ee7752b8a9e1814ad109c022962fb3c4d65e59d5.png\"\">\"\\t高興<br>gao1xing4<br>[sound:pronunciation_zh_高興.mp3]\\t\\n\"<img alt=\"\"認識| にんしき| 認識。 是什麼意思？-日文字典，日文中文（繁體）字典Mazii\"\" src=\"\"paste-38d33ef4aac4ecd7a7a54e323837da2934d2f264.jpg\"\">\"\\t認識<br>ren4shi2<br>[sound:pronunciation_zh_認識.mp3]\\t\\n\"<img alt=\"\"明白了图片-明白了素材-明白了插画-摄图新视界\"\" src=\"\"paste-8601ad3c0372fe40e72712b63e600ca8b9cb7875.jpg\"\">\"\\t明白<br>ming2bai2<br>[sound:pronunciation_zh_明白.mp3]\\t\\n\"<img alt=\"\"感覺孤獨、沒有人理解自己？也許第一步是要學會了解自己– Fairy\\'s Heart\"\" src=\"\"paste-302c7057fb391c9e44935beffc437e2d37654117.jpg\"\">\"\\t理解<br>li3jie3<br>[sound:pronunciation_zh_理解.mp3]\\t\\n\"<img alt=\"\"城市、州和领地- 澳大利亚旅游局\"\" src=\"\"paste-1929ab96c6c8ab4dea608eb1aff783ccfa87d46b.jpg\"\">\"\\t澳大利亞<br>ao4da4li4ya4<br>[sound:pronunciation_zh_澳大利亞.mp3]\\t\\nVery\\t很<br>hen3<br>[sound:pronunciation_zh_很.mp3]\\t\\n\"<img alt=\"\"饿图片素材_免费饿PNG设计图片大全_图精灵\"\" src=\"\"paste-4d0143e684447d27bc44d8ff53dca0eec7ee0f81.jpg\"\">\"\\t饿<br>e4<br>[sound:pronunciation_zh_饿.mp3]\\t\\n\"<img alt=\"\"a1/120:Thirst 口渴- 穴道、經絡、acupuncture study - udn部落格\"\" src=\"\"paste-ab8e6cbdbbf72b70e85f6771313dbf156f2694bc.jpg\"\">\"\\t渴<br>ke3<br>[sound:pronunciation_zh_渴.mp3]\\t\\n\"<img alt=\"\"What Are The Five Regions Of Asia? - WorldAtlas\"\" src=\"\"paste-15a63a07038dc6b2b598cc6001454ac85a82dc17.jpg\"\">\"\\t亞<br>ya4<br>[sound:pronunciation_zh_亞.mp3]\\t\\n\"<img alt=\"\"Operating Profit: Definition, Calculation &amp; Examples - Hourly, Inc.\"\" src=\"\"paste-5ced131aefa31cbccd1569b24c37858b9a9f4f95.jpg\"\">\"\\t\"<span style=\"\"font-weight: 900;\"\">利<br></span>li4<br>[sound:pronunciation_zh_利.mp3]\"\\t\\n\"<img alt=\"\"南方澳內埤海灘。美麗情人灣｜景觀絕佳海景咖啡館一整排@瑪格。圖寫生活\"\" src=\"\"paste-7f28c6da8b0164dc111e886828419d9cf61f99e4.jpg\"\">\"\\t澳<br>ao4<br>[sound:pronunciation_zh_澳.mp3]\\t\\n\"<img alt=\"\"英女王駕崩︱羅蘭七十年代起成電視御用女王曾扮演超過六十次\"\" src=\"\"paste-e2b1164fc5a29a33ac4cd15b23d7f24abc6cedcf.jpg\"\">\"\\t英<br>ying1<br>[sound:pronunciation_zh_英.mp3]\\t\\n\"<img alt=\"\"Regional dialects and how they reflect different cultures\"\" src=\"\"paste-ab266c28d50eb4350053fce36145094f1cb239b3.jpg\"\">\"\\t語<br>yu3<br>[sound:pronunciation_zh_語.mp3]\\t\\n\"<img alt=\"\"Regional dialects and how they reflect different cultures\"\" src=\"\"paste-ab266c28d50eb4350053fce36145094f1cb239b3.jpg\"\"><br>2\"\\t話&nbsp;<br>hua4<br>[sound:pronunciation_zh_話.mp3]\\t\\n\"<img alt=\"\"廣東- 維基百科，自由嘅百科全書\"\" src=\"\"paste-972c086cb377f6dc80fbfaf9b37531fa6fe4c413.jpg\"\">\"\\t廣東<br>guang3dong1<br>[sound:pronunciation_zh_廣東.mp3]\\t\\nweek\\t週<br>zhou1<br>[sound:pronunciation_zh_週.mp3]\\t\\n\"<img alt=\"\"二] [ 兩] – 香港小學習字表– 精選文章\"\" src=\"\"paste-16af4fc0e5e8c70062490cb51d98d010a7d6bd81.jpg\"\"><br>(Counting)\"\\t兩<br>liang3<br>[sound:pronunciation_zh_兩.mp3]\\t\\n'\n"
     ]
    }
   ],
   "source": [
    "print(repr(content))"
   ]
  },
  {
   "cell_type": "code",
   "execution_count": 70,
   "metadata": {},
   "outputs": [
    {
     "name": "stdout",
     "output_type": "stream",
     "text": [
      "['\"<img alt=\"\"什么疑问Sticker - 什么疑问不明白- Discover &amp; Share GIFs\"\" src=\"\"paste-3af146b1f66132cb6d074d2a31894ff375a0c9b3.png\"\"><br>traditional\"\\t什麼<br>shen4me<br>[sound:pronunciation_zh_什麼.mp3]\\t', '\"<img alt=\"\"女生喜欢你的十种表现- 知乎\"\" src=\"\"paste-71f44b86aaf8ff1e27719e788df1d91ef7678a35.jpg\"\"><br>traditional\"\\t<em>喜歡<br></em>xi3huan1<br>[sound:pronunciation_zh_喜歡.mp3]\\t', '\"<img alt=\"\"早上、上午、中午、下午、晚上Flashcards | Quizlet\"\" src=\"\"paste-411f2791eda25d2e5c5d35c9ab388ee928307a4c.jpg\"\">\"\\t早上<br>zao3shang4<br>[sound:pronunciation_zh_早上-c0e84250b6db56ab16158ee28563e4e062c1e92d.mp3]\\t', '\"<img alt=\"\"一朵花里，一個世界；一杯茶裡，一片真情....下午好！ | Good afternoon, Good morning coffee gif, Good  morning picture\"\" src=\"\"paste-14b4cb252fb35f8085f13efe9d7c00b520e19fa5.jpg\"\">\"\\t下午<br>xia4wu3<br>[sound:pronunciation_zh_下午.mp3]\\t', '\"<img alt=\"\"晚上背景图片下载_免费高清晚上背景设计素材_图精灵\"\" src=\"\"paste-91ceb599e1e9e6e72b4528fab2b55fdd49bf3106.jpg\"\">\"\\t晚上<br>wan3shang4<br>[sound:pronunciation_zh_晚上.mp3]\\t', '\"<img alt=\"\"Rosie the Riveter isn\\'t who you think she is\"\" src=\"\"paste-2baf6ccc4efd067b0c74be200e8d871ceb612124.jpg\"\">\"\\t會<br>hui4<br>[sound:pronunciation_zh_會 (2).mp3]\\t', '\"<img alt=\"\"英文口說練習推薦：學會這10個小技巧，包準口說突飛猛進！｜EF ENGLISH LIVE部落格| EF English Live\"\" src=\"\"paste-e23a6e928e379c210a3418e7a74cedf0bf8730d3.jpg\"\">\"\\t說<br>shuo1<br>[sound:pronunciation_zh_說 (1).mp3]\\t', '\"<img alt=\"\"我如何快速地學好英文？10個方法讓你增進你的英文（初學者也適用） | Ting Ting Chuang | Nordic。Travel。  Lifestyle。 Parenting\"\" src=\"\"paste-9b98206d47e588c3db70764459c93d5965de7478.jpg\"\">\"\\t英文<br>ying1wen2<br>[sound:pronunciation_zh_英文-f194f8365d997ac6b3fce5a8b9f01dd3ce38122f.mp3]\\t', '\"<img alt=\"\"The Word Chinese Surrounded Other Letters Stock Photo, Picture and Royalty  Free Image. Image 60133560.\"\" src=\"\"paste-c2e57dae04200d669bf62d5f7807e82d74e2175c.jpg\"\">\"\\t中文<br>zhong1wen2<br>[sound:pronunciation_zh_中文-8c0cbaa203ba8c39b54fea56aa69360ca57321cc.mp3]\\t', '\"<img alt=\"\"抖音女生口中只吃一点表情包无水印下载_女生口中只吃一点表情包分享-游戏窝\"\" src=\"\"paste-68ad84ab1f3552b10180042b0682939965e36adf.jpg\"\">\"\\t一点<br>yi4dian3<br>[sound:pronunciation_zh_一点.mp3]\\t', '\"<img src=\"\"paste-3c5c42518dfbbba9cbbe3a90c0d9f78282d3bc7e.jpg\"\"><br>1\"\\t粵語<br>yue4yu3<br>[sound:pronunciation_zh_粵語.mp3]\\t', '\"<img src=\"\"paste-f7b5fd630e44a7a43f02042da5d48b86513be295.jpg\"\"><br>2\"\\t廣東話<br>guang3dong1hua4<br>[sound:pronunciation_zh_廣東話.mp3]\\t', '\"<img alt=\"\"學測英聽時間113/2024年學測個人申請入學/繁星推薦採計英聽成績校系整理-洋碩美語\"\" src=\"\"toPic.action\"\">\"\\t學<br>xue2<br>[sound:pronunciation_zh_學 (1).mp3]\\t', '\"<img alt=\"\"Fortnite Does Not Equal &quot;Fortnight&quot;\"\" src=\"\"paste-48e5eca174ea763306e4f02360c01002e570d250.jpg\"\">\"\\t兩週<br>liang3zhou1<br>\\t', '\"<img alt=\"\"3d Illustration Of Person Begging. 3d Rendering Of Human ...\"\" src=\"\"21023506-3d-illustration-of-person-begging-3d-rendering-of-human-character.jpg\"\">\"\\t情<br>qing2<br>[sound:pronunciation_zh_情.mp3]\\t', '\"<img alt=\"\"世界十大慢动物看看都有谁\"\" src=\"\"images-b61caf5c1ebbe132f0ef1d7f32a99e71c32bb45b.jpg\"\">\"\\t慢<br>man4<br>[sound:pronunciation_zh_慢.mp3]\\t', 'more slowly\\t慢點<br>man4dian3\\t', '\"<img alt=\"\"左右脸不对称，一边大一边小，该怎么办？ - 知乎\"\" src=\"\"paste-f30f096a2a4bfefa3e626f343b70b6f2f88c699d.jpg\"\"><img alt=\"\"一边...一边... (yìbiān...yìbiān...): The Complete Guide to Expressing  Multitasking in Chinese - ImproveMandarin\"\" src=\"\"paste-cb3938d70ce7f8f2014a9097d398a78140da96d8.jpg\"\">\"\\t<em>一邊<br></em>yi1bian1<br>[sound:pronunciation_zh_一邊.mp3]\\t', '\"<img alt=\"\"幽默力】為什麼別人的自嘲可以化解危機，你的卻讓人尷尬？\"\" src=\"\"paste-0b25c0f55629274b236b8530fb8d0fe5035262ce.jpg\"\">\"\\t可以<br>key3yi3<br>[sound:pronunciation_zh_可以.mp3]\\t', '\"<img alt=\"\"如何表达“没听清”“请再说一遍”?\"\" src=\"\"paste-96ac9769f69565fd36a24142eb6873e158e54abb.jpg\"\">\"\\t再說<br>zai4shuo1<br>[sound:pronunciation_zh_再說.mp3]\\t', '\"<img alt=\"\"高兴图片-高兴设计素材-高兴素材免费下载-万素网\"\" src=\"\"paste-ee7752b8a9e1814ad109c022962fb3c4d65e59d5.png\"\">\"\\t高興<br>gao1xing4<br>[sound:pronunciation_zh_高興.mp3]\\t', '\"<img alt=\"\"認識| にんしき| 認識。 是什麼意思？-日文字典，日文中文（繁體）字典Mazii\"\" src=\"\"paste-38d33ef4aac4ecd7a7a54e323837da2934d2f264.jpg\"\">\"\\t認識<br>ren4shi2<br>[sound:pronunciation_zh_認識.mp3]\\t', '\"<img alt=\"\"明白了图片-明白了素材-明白了插画-摄图新视界\"\" src=\"\"paste-8601ad3c0372fe40e72712b63e600ca8b9cb7875.jpg\"\">\"\\t明白<br>ming2bai2<br>[sound:pronunciation_zh_明白.mp3]\\t', '\"<img alt=\"\"感覺孤獨、沒有人理解自己？也許第一步是要學會了解自己– Fairy\\'s Heart\"\" src=\"\"paste-302c7057fb391c9e44935beffc437e2d37654117.jpg\"\">\"\\t理解<br>li3jie3<br>[sound:pronunciation_zh_理解.mp3]\\t', '\"<img alt=\"\"城市、州和领地- 澳大利亚旅游局\"\" src=\"\"paste-1929ab96c6c8ab4dea608eb1aff783ccfa87d46b.jpg\"\">\"\\t澳大利亞<br>ao4da4li4ya4<br>[sound:pronunciation_zh_澳大利亞.mp3]\\t', 'Very\\t很<br>hen3<br>[sound:pronunciation_zh_很.mp3]\\t', '\"<img alt=\"\"饿图片素材_免费饿PNG设计图片大全_图精灵\"\" src=\"\"paste-4d0143e684447d27bc44d8ff53dca0eec7ee0f81.jpg\"\">\"\\t饿<br>e4<br>[sound:pronunciation_zh_饿.mp3]\\t', '\"<img alt=\"\"a1/120:Thirst 口渴- 穴道、經絡、acupuncture study - udn部落格\"\" src=\"\"paste-ab8e6cbdbbf72b70e85f6771313dbf156f2694bc.jpg\"\">\"\\t渴<br>ke3<br>[sound:pronunciation_zh_渴.mp3]\\t', '\"<img alt=\"\"What Are The Five Regions Of Asia? - WorldAtlas\"\" src=\"\"paste-15a63a07038dc6b2b598cc6001454ac85a82dc17.jpg\"\">\"\\t亞<br>ya4<br>[sound:pronunciation_zh_亞.mp3]\\t', '\"<img alt=\"\"Operating Profit: Definition, Calculation &amp; Examples - Hourly, Inc.\"\" src=\"\"paste-5ced131aefa31cbccd1569b24c37858b9a9f4f95.jpg\"\">\"\\t\"<span style=\"\"font-weight: 900;\"\">利<br></span>li4<br>[sound:pronunciation_zh_利.mp3]\"\\t', '\"<img alt=\"\"南方澳內埤海灘。美麗情人灣｜景觀絕佳海景咖啡館一整排@瑪格。圖寫生活\"\" src=\"\"paste-7f28c6da8b0164dc111e886828419d9cf61f99e4.jpg\"\">\"\\t澳<br>ao4<br>[sound:pronunciation_zh_澳.mp3]\\t', '\"<img alt=\"\"英女王駕崩︱羅蘭七十年代起成電視御用女王曾扮演超過六十次\"\" src=\"\"paste-e2b1164fc5a29a33ac4cd15b23d7f24abc6cedcf.jpg\"\">\"\\t英<br>ying1<br>[sound:pronunciation_zh_英.mp3]\\t', '\"<img alt=\"\"Regional dialects and how they reflect different cultures\"\" src=\"\"paste-ab266c28d50eb4350053fce36145094f1cb239b3.jpg\"\">\"\\t語<br>yu3<br>[sound:pronunciation_zh_語.mp3]\\t', '\"<img alt=\"\"Regional dialects and how they reflect different cultures\"\" src=\"\"paste-ab266c28d50eb4350053fce36145094f1cb239b3.jpg\"\"><br>2\"\\t話&nbsp;<br>hua4<br>[sound:pronunciation_zh_話.mp3]\\t', '\"<img alt=\"\"廣東- 維基百科，自由嘅百科全書\"\" src=\"\"paste-972c086cb377f6dc80fbfaf9b37531fa6fe4c413.jpg\"\">\"\\t廣東<br>guang3dong1<br>[sound:pronunciation_zh_廣東.mp3]\\t', 'week\\t週<br>zhou1<br>[sound:pronunciation_zh_週.mp3]\\t', '\"<img alt=\"\"二] [ 兩] – 香港小學習字表– 精選文章\"\" src=\"\"paste-16af4fc0e5e8c70062490cb51d98d010a7d6bd81.jpg\"\"><br>(Counting)\"\\t兩<br>liang3<br>[sound:pronunciation_zh_兩.mp3]\\t']\n",
      "37\n"
     ]
    }
   ],
   "source": [
    "lines = content.split('\\n')\n",
    "lines.pop(0)\n",
    "lines.pop(0)\n",
    "lines.pop(0)\n",
    "lines.pop(-1)\n",
    "print(lines)\n",
    "print(len(lines))"
   ]
  },
  {
   "cell_type": "code",
   "execution_count": 71,
   "metadata": {},
   "outputs": [],
   "source": [
    "base_df = pd.DataFrame({\"Front\": [], \"Back\": [], \"Tag\": []})\n",
    "for line in lines:\n",
    "    sections = line.split(\"\\t\")\n",
    "    row = pd.Series([sections[0], sections[1], \"tag\"], index=base_df.columns)\n",
    "    base_df = pd.concat([base_df, row.to_frame().T], ignore_index=True)"
   ]
  },
  {
   "cell_type": "code",
   "execution_count": 72,
   "metadata": {},
   "outputs": [],
   "source": [
    "for index, row in base_df.iterrows():\n",
    "    base_df.loc[index, \"Back\"] = re.sub(r\"<br>\", \"\\n\", base_df.loc[index, \"Back\"])\n",
    "    base_df.loc[index, \"Back\"] = re.sub(r\"<\\/?em>\", \"\", base_df.loc[index, \"Back\"])\n",
    "    "
   ]
  },
  {
   "cell_type": "code",
   "execution_count": 73,
   "metadata": {},
   "outputs": [
    {
     "data": {
      "text/html": [
       "<div>\n",
       "<style scoped>\n",
       "    .dataframe tbody tr th:only-of-type {\n",
       "        vertical-align: middle;\n",
       "    }\n",
       "\n",
       "    .dataframe tbody tr th {\n",
       "        vertical-align: top;\n",
       "    }\n",
       "\n",
       "    .dataframe thead th {\n",
       "        text-align: right;\n",
       "    }\n",
       "</style>\n",
       "<table border=\"1\" class=\"dataframe\">\n",
       "  <thead>\n",
       "    <tr style=\"text-align: right;\">\n",
       "      <th></th>\n",
       "      <th>Front</th>\n",
       "      <th>Back</th>\n",
       "      <th>Tag</th>\n",
       "    </tr>\n",
       "  </thead>\n",
       "  <tbody>\n",
       "    <tr>\n",
       "      <th>0</th>\n",
       "      <td>\"&lt;img alt=\"\"什么疑问Sticker - 什么疑问不明白- Discover &amp;a...</td>\n",
       "      <td>什麼\\nshen4me\\n[sound:pronunciation_zh_什麼.mp3]</td>\n",
       "      <td>tag</td>\n",
       "    </tr>\n",
       "    <tr>\n",
       "      <th>1</th>\n",
       "      <td>\"&lt;img alt=\"\"女生喜欢你的十种表现- 知乎\"\" src=\"\"paste-71f44...</td>\n",
       "      <td>喜歡\\nxi3huan1\\n[sound:pronunciation_zh_喜歡.mp3]</td>\n",
       "      <td>tag</td>\n",
       "    </tr>\n",
       "    <tr>\n",
       "      <th>2</th>\n",
       "      <td>\"&lt;img alt=\"\"早上、上午、中午、下午、晚上Flashcards | Quizlet...</td>\n",
       "      <td>早上\\nzao3shang4\\n[sound:pronunciation_zh_早上-c0e...</td>\n",
       "      <td>tag</td>\n",
       "    </tr>\n",
       "    <tr>\n",
       "      <th>3</th>\n",
       "      <td>\"&lt;img alt=\"\"一朵花里，一個世界；一杯茶裡，一片真情....下午好！ | Good...</td>\n",
       "      <td>下午\\nxia4wu3\\n[sound:pronunciation_zh_下午.mp3]</td>\n",
       "      <td>tag</td>\n",
       "    </tr>\n",
       "    <tr>\n",
       "      <th>4</th>\n",
       "      <td>\"&lt;img alt=\"\"晚上背景图片下载_免费高清晚上背景设计素材_图精灵\"\" src=\"\"...</td>\n",
       "      <td>晚上\\nwan3shang4\\n[sound:pronunciation_zh_晚上.mp3]</td>\n",
       "      <td>tag</td>\n",
       "    </tr>\n",
       "  </tbody>\n",
       "</table>\n",
       "</div>"
      ],
      "text/plain": [
       "                                               Front  \\\n",
       "0  \"<img alt=\"\"什么疑问Sticker - 什么疑问不明白- Discover &a...   \n",
       "1  \"<img alt=\"\"女生喜欢你的十种表现- 知乎\"\" src=\"\"paste-71f44...   \n",
       "2  \"<img alt=\"\"早上、上午、中午、下午、晚上Flashcards | Quizlet...   \n",
       "3  \"<img alt=\"\"一朵花里，一個世界；一杯茶裡，一片真情....下午好！ | Good...   \n",
       "4  \"<img alt=\"\"晚上背景图片下载_免费高清晚上背景设计素材_图精灵\"\" src=\"\"...   \n",
       "\n",
       "                                                Back  Tag  \n",
       "0       什麼\\nshen4me\\n[sound:pronunciation_zh_什麼.mp3]  tag  \n",
       "1      喜歡\\nxi3huan1\\n[sound:pronunciation_zh_喜歡.mp3]  tag  \n",
       "2  早上\\nzao3shang4\\n[sound:pronunciation_zh_早上-c0e...  tag  \n",
       "3       下午\\nxia4wu3\\n[sound:pronunciation_zh_下午.mp3]  tag  \n",
       "4    晚上\\nwan3shang4\\n[sound:pronunciation_zh_晚上.mp3]  tag  "
      ]
     },
     "execution_count": 73,
     "metadata": {},
     "output_type": "execute_result"
    }
   ],
   "source": [
    "base_df.head()"
   ]
  },
  {
   "cell_type": "code",
   "execution_count": 75,
   "metadata": {},
   "outputs": [],
   "source": [
    "hanzi_df = pd.DataFrame({\"Front\": [], \"Back\": [], \"Tag\": []})\n",
    "\n",
    "for index, row in base_df.iterrows():\n",
    "    sections = base_df.loc[index, \"Back\"].split(\"\\n\")\n",
    "    front = sections[0]\n",
    "    back = base_df.loc[index, \"Front\"] + \"\\n\"\n",
    "    for i in range(1, len(sections)):\n",
    "        back = back + sections[i] + \"\\n\"\n",
    "\n",
    "    row = pd.Series([front, back, \"tag\"], index=hanzi_df.columns)\n",
    "    hanzi_df = pd.concat([hanzi_df, row.to_frame().T], ignore_index=True)"
   ]
  },
  {
   "cell_type": "code",
   "execution_count": 76,
   "metadata": {},
   "outputs": [
    {
     "data": {
      "text/html": [
       "<div>\n",
       "<style scoped>\n",
       "    .dataframe tbody tr th:only-of-type {\n",
       "        vertical-align: middle;\n",
       "    }\n",
       "\n",
       "    .dataframe tbody tr th {\n",
       "        vertical-align: top;\n",
       "    }\n",
       "\n",
       "    .dataframe thead th {\n",
       "        text-align: right;\n",
       "    }\n",
       "</style>\n",
       "<table border=\"1\" class=\"dataframe\">\n",
       "  <thead>\n",
       "    <tr style=\"text-align: right;\">\n",
       "      <th></th>\n",
       "      <th>Front</th>\n",
       "      <th>Back</th>\n",
       "      <th>Tag</th>\n",
       "    </tr>\n",
       "  </thead>\n",
       "  <tbody>\n",
       "    <tr>\n",
       "      <th>0</th>\n",
       "      <td>什麼</td>\n",
       "      <td>\"&lt;img alt=\"\"什么疑问Sticker - 什么疑问不明白- Discover &amp;a...</td>\n",
       "      <td>tag</td>\n",
       "    </tr>\n",
       "    <tr>\n",
       "      <th>1</th>\n",
       "      <td>喜歡</td>\n",
       "      <td>\"&lt;img alt=\"\"女生喜欢你的十种表现- 知乎\"\" src=\"\"paste-71f44...</td>\n",
       "      <td>tag</td>\n",
       "    </tr>\n",
       "    <tr>\n",
       "      <th>2</th>\n",
       "      <td>早上</td>\n",
       "      <td>\"&lt;img alt=\"\"早上、上午、中午、下午、晚上Flashcards | Quizlet...</td>\n",
       "      <td>tag</td>\n",
       "    </tr>\n",
       "    <tr>\n",
       "      <th>3</th>\n",
       "      <td>下午</td>\n",
       "      <td>\"&lt;img alt=\"\"一朵花里，一個世界；一杯茶裡，一片真情....下午好！ | Good...</td>\n",
       "      <td>tag</td>\n",
       "    </tr>\n",
       "    <tr>\n",
       "      <th>4</th>\n",
       "      <td>晚上</td>\n",
       "      <td>\"&lt;img alt=\"\"晚上背景图片下载_免费高清晚上背景设计素材_图精灵\"\" src=\"\"...</td>\n",
       "      <td>tag</td>\n",
       "    </tr>\n",
       "  </tbody>\n",
       "</table>\n",
       "</div>"
      ],
      "text/plain": [
       "  Front                                               Back  Tag\n",
       "0    什麼  \"<img alt=\"\"什么疑问Sticker - 什么疑问不明白- Discover &a...  tag\n",
       "1    喜歡  \"<img alt=\"\"女生喜欢你的十种表现- 知乎\"\" src=\"\"paste-71f44...  tag\n",
       "2    早上  \"<img alt=\"\"早上、上午、中午、下午、晚上Flashcards | Quizlet...  tag\n",
       "3    下午  \"<img alt=\"\"一朵花里，一個世界；一杯茶裡，一片真情....下午好！ | Good...  tag\n",
       "4    晚上  \"<img alt=\"\"晚上背景图片下载_免费高清晚上背景设计素材_图精灵\"\" src=\"\"...  tag"
      ]
     },
     "execution_count": 76,
     "metadata": {},
     "output_type": "execute_result"
    }
   ],
   "source": [
    "hanzi_df.head()"
   ]
  },
  {
   "cell_type": "code",
   "execution_count": 77,
   "metadata": {},
   "outputs": [],
   "source": [
    "hanzi_df.to_csv(r\"/home/david/Documents/Cyber-AI/data/buffer_words.csv\", encoding=\"utf-8\", sep=\"\\t\", index=False, header=False)"
   ]
  },
  {
   "cell_type": "code",
   "execution_count": null,
   "metadata": {},
   "outputs": [],
   "source": []
  }
 ],
 "metadata": {
  "kernelspec": {
   "display_name": "Python 3",
   "language": "python",
   "name": "python3"
  },
  "language_info": {
   "codemirror_mode": {
    "name": "ipython",
    "version": 3
   },
   "file_extension": ".py",
   "mimetype": "text/x-python",
   "name": "python",
   "nbconvert_exporter": "python",
   "pygments_lexer": "ipython3",
   "version": "3.10.12"
  }
 },
 "nbformat": 4,
 "nbformat_minor": 2
}
